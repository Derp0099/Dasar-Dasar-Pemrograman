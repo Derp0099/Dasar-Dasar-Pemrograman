{
  "nbformat": 4,
  "nbformat_minor": 0,
  "metadata": {
    "colab": {
      "provenance": [],
      "toc_visible": true,
      "authorship_tag": "ABX9TyP62/CH51O2mVw549TJhdkF",
      "include_colab_link": true
    },
    "kernelspec": {
      "name": "python3",
      "display_name": "Python 3"
    },
    "language_info": {
      "name": "python"
    }
  },
  "cells": [
    {
      "cell_type": "markdown",
      "metadata": {
        "id": "view-in-github",
        "colab_type": "text"
      },
      "source": [
        "<a href=\"https://colab.research.google.com/github/Derp0099/Dasar-Dasar-Pemrograman/blob/main/DDP05.ipynb\" target=\"_parent\"><img src=\"https://colab.research.google.com/assets/colab-badge.svg\" alt=\"Open In Colab\"/></a>"
      ]
    },
    {
      "cell_type": "code",
      "execution_count": 1,
      "metadata": {
        "colab": {
          "base_uri": "https://localhost:8080/"
        },
        "id": "ZViesuPk2eK1",
        "outputId": "143e9b8f-3c8c-466a-aa1c-1aafaa45e2aa"
      },
      "outputs": [
        {
          "output_type": "stream",
          "name": "stdout",
          "text": [
            "['Mobil', 'MPV', 'Honda', '600cc', 'Silver', 'Roda 4', '300 juta', 'Matic']\n"
          ]
        }
      ],
      "source": [
        "#tugas 1\n",
        "list = [\"Mobil\",\"MPV\",\"600cc\",\"Silver\",\"Roda 4\"]\n",
        "list.append('300 juta')\n",
        "list.append('Matic')\n",
        "list.insert(2,\"Honda\")\n",
        "print(list)\n"
      ]
    }
  ]
}